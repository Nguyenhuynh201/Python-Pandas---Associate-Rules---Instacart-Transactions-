{
 "cells": [
  {
   "cell_type": "code",
   "execution_count": 1,
   "id": "3e32a663",
   "metadata": {},
   "outputs": [],
   "source": [
    "import pandas as pd\n",
    "import matplotlib.pylab as plt\n",
    "from mlxtend.frequent_patterns import apriori\n",
    "from mlxtend.frequent_patterns import association_rules"
   ]
  },
  {
   "cell_type": "code",
   "execution_count": 4,
   "id": "5b1aae06",
   "metadata": {},
   "outputs": [],
   "source": [
    "# Load and preprocess data set \n",
    "df = pd.read_csv('instacart.csv')\n",
    "product_df= pd.read_csv(\"products.csv\")"
   ]
  },
  {
   "cell_type": "code",
   "execution_count": 5,
   "id": "bd67708a",
   "metadata": {},
   "outputs": [],
   "source": [
    "# use product name instead of id\n",
    "merged_products_df = pd.merge(df, product_df, how=\"left\", on=[\"product_id\"])[['order_id','product_name']]"
   ]
  },
  {
   "cell_type": "code",
   "execution_count": 6,
   "id": "5a76df3c",
   "metadata": {},
   "outputs": [
    {
     "data": {
      "text/html": [
       "<div>\n",
       "<style scoped>\n",
       "    .dataframe tbody tr th:only-of-type {\n",
       "        vertical-align: middle;\n",
       "    }\n",
       "\n",
       "    .dataframe tbody tr th {\n",
       "        vertical-align: top;\n",
       "    }\n",
       "\n",
       "    .dataframe thead th {\n",
       "        text-align: right;\n",
       "    }\n",
       "</style>\n",
       "<table border=\"1\" class=\"dataframe\">\n",
       "  <thead>\n",
       "    <tr style=\"text-align: right;\">\n",
       "      <th></th>\n",
       "      <th>order_id</th>\n",
       "      <th>product_name</th>\n",
       "    </tr>\n",
       "  </thead>\n",
       "  <tbody>\n",
       "    <tr>\n",
       "      <th>0</th>\n",
       "      <td>1</td>\n",
       "      <td>Bulgarian Yogurt</td>\n",
       "    </tr>\n",
       "    <tr>\n",
       "      <th>1</th>\n",
       "      <td>1</td>\n",
       "      <td>Organic 4% Milk Fat Whole Milk Cottage Cheese</td>\n",
       "    </tr>\n",
       "    <tr>\n",
       "      <th>2</th>\n",
       "      <td>1</td>\n",
       "      <td>Organic Celery Hearts</td>\n",
       "    </tr>\n",
       "    <tr>\n",
       "      <th>3</th>\n",
       "      <td>1</td>\n",
       "      <td>Cucumber Kirby</td>\n",
       "    </tr>\n",
       "    <tr>\n",
       "      <th>4</th>\n",
       "      <td>1</td>\n",
       "      <td>Lightly Smoked Sardines in Olive Oil</td>\n",
       "    </tr>\n",
       "    <tr>\n",
       "      <th>5</th>\n",
       "      <td>1</td>\n",
       "      <td>Bag of Organic Bananas</td>\n",
       "    </tr>\n",
       "    <tr>\n",
       "      <th>6</th>\n",
       "      <td>1</td>\n",
       "      <td>Organic Hass Avocado</td>\n",
       "    </tr>\n",
       "    <tr>\n",
       "      <th>7</th>\n",
       "      <td>1</td>\n",
       "      <td>Organic Whole String Cheese</td>\n",
       "    </tr>\n",
       "    <tr>\n",
       "      <th>8</th>\n",
       "      <td>36</td>\n",
       "      <td>Grated Pecorino Romano Cheese</td>\n",
       "    </tr>\n",
       "    <tr>\n",
       "      <th>9</th>\n",
       "      <td>36</td>\n",
       "      <td>Spring Water</td>\n",
       "    </tr>\n",
       "    <tr>\n",
       "      <th>10</th>\n",
       "      <td>36</td>\n",
       "      <td>Organic Half &amp; Half</td>\n",
       "    </tr>\n",
       "    <tr>\n",
       "      <th>11</th>\n",
       "      <td>36</td>\n",
       "      <td>Super Greens Salad</td>\n",
       "    </tr>\n",
       "    <tr>\n",
       "      <th>12</th>\n",
       "      <td>36</td>\n",
       "      <td>Cage Free Extra Large Grade AA Eggs</td>\n",
       "    </tr>\n",
       "    <tr>\n",
       "      <th>13</th>\n",
       "      <td>36</td>\n",
       "      <td>Prosciutto, Americano</td>\n",
       "    </tr>\n",
       "    <tr>\n",
       "      <th>14</th>\n",
       "      <td>36</td>\n",
       "      <td>Organic Garnet Sweet Potato (Yam)</td>\n",
       "    </tr>\n",
       "    <tr>\n",
       "      <th>15</th>\n",
       "      <td>36</td>\n",
       "      <td>Asparagus</td>\n",
       "    </tr>\n",
       "    <tr>\n",
       "      <th>16</th>\n",
       "      <td>38</td>\n",
       "      <td>Shelled Pistachios</td>\n",
       "    </tr>\n",
       "    <tr>\n",
       "      <th>17</th>\n",
       "      <td>38</td>\n",
       "      <td>Organic Biologique Limes</td>\n",
       "    </tr>\n",
       "    <tr>\n",
       "      <th>18</th>\n",
       "      <td>38</td>\n",
       "      <td>Organic Raw Unfiltered Apple Cider Vinegar</td>\n",
       "    </tr>\n",
       "    <tr>\n",
       "      <th>19</th>\n",
       "      <td>38</td>\n",
       "      <td>Organic Baby Arugula</td>\n",
       "    </tr>\n",
       "    <tr>\n",
       "      <th>20</th>\n",
       "      <td>38</td>\n",
       "      <td>Organic Hot House Tomato</td>\n",
       "    </tr>\n",
       "    <tr>\n",
       "      <th>21</th>\n",
       "      <td>38</td>\n",
       "      <td>Green Peas</td>\n",
       "    </tr>\n",
       "    <tr>\n",
       "      <th>22</th>\n",
       "      <td>38</td>\n",
       "      <td>Bunched Cilantro</td>\n",
       "    </tr>\n",
       "    <tr>\n",
       "      <th>23</th>\n",
       "      <td>38</td>\n",
       "      <td>Flat Parsley, Bunch</td>\n",
       "    </tr>\n",
       "    <tr>\n",
       "      <th>24</th>\n",
       "      <td>38</td>\n",
       "      <td>Fresh Dill</td>\n",
       "    </tr>\n",
       "  </tbody>\n",
       "</table>\n",
       "</div>"
      ],
      "text/plain": [
       "    order_id                                   product_name\n",
       "0          1                               Bulgarian Yogurt\n",
       "1          1  Organic 4% Milk Fat Whole Milk Cottage Cheese\n",
       "2          1                          Organic Celery Hearts\n",
       "3          1                                 Cucumber Kirby\n",
       "4          1           Lightly Smoked Sardines in Olive Oil\n",
       "5          1                         Bag of Organic Bananas\n",
       "6          1                           Organic Hass Avocado\n",
       "7          1                    Organic Whole String Cheese\n",
       "8         36                  Grated Pecorino Romano Cheese\n",
       "9         36                                   Spring Water\n",
       "10        36                            Organic Half & Half\n",
       "11        36                             Super Greens Salad\n",
       "12        36            Cage Free Extra Large Grade AA Eggs\n",
       "13        36                          Prosciutto, Americano\n",
       "14        36              Organic Garnet Sweet Potato (Yam)\n",
       "15        36                                      Asparagus\n",
       "16        38                             Shelled Pistachios\n",
       "17        38                       Organic Biologique Limes\n",
       "18        38     Organic Raw Unfiltered Apple Cider Vinegar\n",
       "19        38                           Organic Baby Arugula\n",
       "20        38                       Organic Hot House Tomato\n",
       "21        38                                     Green Peas\n",
       "22        38                               Bunched Cilantro\n",
       "23        38                            Flat Parsley, Bunch\n",
       "24        38                                     Fresh Dill"
      ]
     },
     "execution_count": 6,
     "metadata": {},
     "output_type": "execute_result"
    }
   ],
   "source": [
    "merged_products_df.head(25)"
   ]
  },
  {
   "cell_type": "code",
   "execution_count": 7,
   "id": "7c8e708e",
   "metadata": {},
   "outputs": [],
   "source": [
    "store_record = {}\n",
    "for index, values in merged_products_df.iterrows():\n",
    "    order_id = str(values.order_id)\n",
    "    if order_id not in store_record:\n",
    "        store_record[order_id] = [str(values.product_name)]\n",
    "    else:\n",
    "        store_record[order_id].append(str(values.product_name))"
   ]
  },
  {
   "cell_type": "code",
   "execution_count": 12,
   "id": "a7b60262",
   "metadata": {},
   "outputs": [
    {
     "data": {
      "text/plain": [
       "['Bulgarian Yogurt',\n",
       " 'Organic 4% Milk Fat Whole Milk Cottage Cheese',\n",
       " 'Organic Celery Hearts',\n",
       " 'Cucumber Kirby',\n",
       " 'Lightly Smoked Sardines in Olive Oil',\n",
       " 'Bag of Organic Bananas',\n",
       " 'Organic Hass Avocado',\n",
       " 'Organic Whole String Cheese']"
      ]
     },
     "execution_count": 12,
     "metadata": {},
     "output_type": "execute_result"
    }
   ],
   "source": [
    "store_record['1']"
   ]
  },
  {
   "cell_type": "code",
   "execution_count": 13,
   "id": "6c472473",
   "metadata": {},
   "outputs": [],
   "source": [
    "item_database = []\n",
    "for record in store_record.values():\n",
    "    if len(record) > 1:\n",
    "        item_database.append(record)"
   ]
  },
  {
   "cell_type": "code",
   "execution_count": 16,
   "id": "c2b860de",
   "metadata": {},
   "outputs": [
    {
     "data": {
      "text/plain": [
       "['Natural Spring Water',\n",
       " 'Organic Orange Juice With Calcium & Vitamin D',\n",
       " 'Whole Milk Greek Blended Vanilla Bean Yogurt',\n",
       " 'Bag of Organic Bananas',\n",
       " 'Organic Chocolate Almondmilk Pudding',\n",
       " 'Organic Sliced Provalone Cheese',\n",
       " 'Tomatoes, Crushed, Organic',\n",
       " 'Organic Unsweetened Almond Milk',\n",
       " 'Crackers, Oyster',\n",
       " 'Uncured Applewood Smoked Bacon',\n",
       " 'Organic Seasoned Yukon Select Potatoes Hashed Browns',\n",
       " 'Organic Extra Virgin Oil Olive',\n",
       " 'Organic Raspberries',\n",
       " 'Unsalted Cultured Butter',\n",
       " 'Guacamole',\n",
       " 'Black Beans',\n",
       " 'Raspberry Sorbet Pops',\n",
       " 'Geranium Liquid Dish Soap',\n",
       " 'Baby Swiss Slices Cheese',\n",
       " 'Organic Whole Grassmilk Milk',\n",
       " 'Organic Raw Kombucha Gingerade',\n",
       " 'Organic Hothouse Cucumbers',\n",
       " 'Black Beans No Salt Added',\n",
       " 'Organic Cinnamon Apple Sauce',\n",
       " 'Uncured Genoa Salami',\n",
       " 'Queso Fresco',\n",
       " 'Natural Chicken & Maple Breakfast Sausage Patty',\n",
       " 'Sliced Pepperoni',\n",
       " 'Organic Garlic',\n",
       " '100% Organic Unbleached All-Purpose Flour',\n",
       " 'Lavender Scent Laundry Detergent',\n",
       " 'Organic Italian Parsley Bunch',\n",
       " 'Organic 2% Buttermilk',\n",
       " 'Organic Yellow Onion',\n",
       " 'Organic Free Range Chicken Broth',\n",
       " 'Organic Stringles Mozzarella String Cheese',\n",
       " 'Garbanzo Beans',\n",
       " 'Organic Ketchup',\n",
       " 'Organic Zucchini',\n",
       " 'Mild Diced Green Chiles',\n",
       " 'Pinto Beans No Salt Added',\n",
       " 'Organic Lemonade',\n",
       " 'Corn Maize Tortillas',\n",
       " 'Organic Corn Starch',\n",
       " 'Olive Oil & Aloe Vera Hand Soap',\n",
       " 'Plastic Spoons',\n",
       " 'Aluminum Foil',\n",
       " 'Plastic Wrap',\n",
       " 'Organic Coconut Milk']"
      ]
     },
     "execution_count": 16,
     "metadata": {},
     "output_type": "execute_result"
    }
   ],
   "source": [
    "item_database[4] #test if previous code line run correctly"
   ]
  },
  {
   "cell_type": "code",
   "execution_count": 17,
   "id": "ff784775",
   "metadata": {},
   "outputs": [],
   "source": [
    "# using TransactionEncorder to do One hot encording.\n",
    "\n",
    "from mlxtend.preprocessing import TransactionEncoder\n",
    "te = TransactionEncoder()\n",
    "te_ary = te.fit(item_database).transform(item_database)\n"
   ]
  },
  {
   "cell_type": "code",
   "execution_count": 18,
   "id": "0cdf2f46",
   "metadata": {},
   "outputs": [
    {
     "data": {
      "text/plain": [
       "array([[False, False, False, ..., False, False, False],\n",
       "       [False, False, False, ..., False, False, False],\n",
       "       [False, False, False, ..., False, False, False],\n",
       "       ...,\n",
       "       [False, False, False, ..., False, False, False],\n",
       "       [False, False, False, ..., False, False, False],\n",
       "       [False, False, False, ..., False, False, False]])"
      ]
     },
     "execution_count": 18,
     "metadata": {},
     "output_type": "execute_result"
    }
   ],
   "source": [
    "te_ary"
   ]
  },
  {
   "cell_type": "code",
   "execution_count": 19,
   "id": "836539f9",
   "metadata": {},
   "outputs": [
    {
     "name": "stdout",
     "output_type": "stream",
     "text": [
      "              antecedents               consequents  antecedent support  \\\n",
      "0      (Organic Cucumber)  (Bag of Organic Bananas)            0.036889   \n",
      "1  (Organic Hass Avocado)  (Bag of Organic Bananas)            0.058947   \n",
      "2   (Organic Raspberries)  (Bag of Organic Bananas)            0.043762   \n",
      "3  (Organic Strawberries)  (Bag of Organic Bananas)            0.085683   \n",
      "4           (Large Lemon)                  (Banana)            0.064911   \n",
      "5       (Organic Avocado)                  (Banana)            0.060477   \n",
      "6          (Strawberries)                  (Banana)            0.052851   \n",
      "7                 (Limes)             (Large Lemon)            0.048218   \n",
      "8   (Organic Raspberries)    (Organic Strawberries)            0.043762   \n",
      "\n",
      "   consequent support   support  confidence      lift  leverage  conviction  \n",
      "0            0.122595  0.010176    0.275841  2.250027  0.005653    1.211620  \n",
      "1            0.122595  0.019198    0.325686  2.656611  0.011972    1.301183  \n",
      "2            0.122595  0.014521    0.331814  2.706591  0.009156    1.313115  \n",
      "3            0.122595  0.024874    0.290298  2.367946  0.014369    1.236300  \n",
      "4            0.148045  0.016560    0.255123  1.723283  0.006951    1.143753  \n",
      "5            0.148045  0.018289    0.302419  2.042757  0.009336    1.221300  \n",
      "6            0.148045  0.015496    0.293205  1.980515  0.007672    1.205378  \n",
      "7            0.064911  0.012858    0.266667  4.108197  0.009728    1.275122  \n",
      "8            0.085683  0.012570    0.287234  3.352278  0.008820    1.282773  \n"
     ]
    }
   ],
   "source": [
    "df = pd.DataFrame(te_ary, columns=te.columns_)\n",
    "\n",
    "\n",
    "itemsets = apriori(df, min_support=0.01, use_colnames=True)\n",
    "rules = association_rules(itemsets, metric='confidence', min_threshold=0.25)\n",
    "print(rules)\n"
   ]
  },
  {
   "cell_type": "code",
   "execution_count": null,
   "id": "2de69752",
   "metadata": {},
   "outputs": [],
   "source": []
  }
 ],
 "metadata": {
  "kernelspec": {
   "display_name": "Python 3 (ipykernel)",
   "language": "python",
   "name": "python3"
  },
  "language_info": {
   "codemirror_mode": {
    "name": "ipython",
    "version": 3
   },
   "file_extension": ".py",
   "mimetype": "text/x-python",
   "name": "python",
   "nbconvert_exporter": "python",
   "pygments_lexer": "ipython3",
   "version": "3.9.7"
  }
 },
 "nbformat": 4,
 "nbformat_minor": 5
}
